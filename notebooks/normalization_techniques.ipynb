{
  "nbformat": 4,
  "nbformat_minor": 0,
  "metadata": {
    "colab": {
      "name": "normalization_techniques.ipynb",
      "provenance": [],
      "collapsed_sections": []
    },
    "kernelspec": {
      "name": "python3",
      "display_name": "Python 3"
    }
  },
  "cells": [
    {
      "cell_type": "markdown",
      "metadata": {
        "id": "FSsz8On52n4A",
        "colab_type": "text"
      },
      "source": [
        "# Data normalization techniques\n",
        "###Important!! Pick only ONE normalization technique, NOT ALL"
      ]
    },
    {
      "cell_type": "code",
      "metadata": {
        "id": "csWT8TQfphiz",
        "colab_type": "code",
        "colab": {}
      },
      "source": [
        "from google.colab import files\n",
        "files.upload()"
      ],
      "execution_count": 0,
      "outputs": []
    },
    {
      "cell_type": "code",
      "metadata": {
        "id": "hJQoQIjBsvEc",
        "colab_type": "code",
        "colab": {}
      },
      "source": [
        "import numpy as np"
      ],
      "execution_count": 0,
      "outputs": []
    },
    {
      "cell_type": "code",
      "metadata": {
        "id": "LPeS83pXP7zX",
        "colab_type": "code",
        "colab": {}
      },
      "source": [
        "data = np.genfromtxt('pima-diabetes.csv', delimiter=\",\", skip_header = True)"
      ],
      "execution_count": 0,
      "outputs": []
    },
    {
      "cell_type": "code",
      "metadata": {
        "id": "jiQVHg__S91Y",
        "colab_type": "code",
        "colab": {}
      },
      "source": [
        "print(data.shape)"
      ],
      "execution_count": 0,
      "outputs": []
    },
    {
      "cell_type": "code",
      "metadata": {
        "id": "DL_g_Fz6TBhy",
        "colab_type": "code",
        "colab": {}
      },
      "source": [
        "X = data[:, :-1]\n",
        "Y = data[:, -1]"
      ],
      "execution_count": 0,
      "outputs": []
    },
    {
      "cell_type": "code",
      "metadata": {
        "id": "Hhn8jGZ3AsJm",
        "colab_type": "code",
        "colab": {}
      },
      "source": [
        "np.set_printoptions(precision = 2) # does not work for too wide array\n",
        "np.set_printoptions(formatter = {'float': '{: 0.1f}'.format})"
      ],
      "execution_count": 0,
      "outputs": []
    },
    {
      "cell_type": "code",
      "metadata": {
        "id": "82-beBsiAg9W",
        "colab_type": "code",
        "colab": {}
      },
      "source": [
        "print(X[:10])"
      ],
      "execution_count": 0,
      "outputs": []
    },
    {
      "cell_type": "code",
      "metadata": {
        "id": "dayHDbYKAiw8",
        "colab_type": "code",
        "colab": {}
      },
      "source": [
        "print(Y[:10])"
      ],
      "execution_count": 0,
      "outputs": []
    },
    {
      "cell_type": "code",
      "metadata": {
        "id": "Vi7xlchnAvM1",
        "colab_type": "code",
        "colab": {}
      },
      "source": [
        "# Rescaling\n",
        "Y = Y / Y.max()"
      ],
      "execution_count": 0,
      "outputs": []
    },
    {
      "cell_type": "code",
      "metadata": {
        "id": "kntMnQc4A7Aq",
        "colab_type": "code",
        "colab": {}
      },
      "source": [
        "# Standardization\n",
        "mean = X.mean(axis = 0)\n",
        "X -= mean\n",
        "std = X.std(axis = 0)\n",
        "X /= std"
      ],
      "execution_count": 0,
      "outputs": []
    },
    {
      "cell_type": "code",
      "metadata": {
        "id": "zYhxay9UBHL1",
        "colab_type": "code",
        "colab": {}
      },
      "source": [
        "print(std)\n",
        "print(mean)"
      ],
      "execution_count": 0,
      "outputs": []
    },
    {
      "cell_type": "code",
      "metadata": {
        "id": "a8mdDHbIBw_f",
        "colab_type": "code",
        "colab": {}
      },
      "source": [
        "print(X[:10])"
      ],
      "execution_count": 0,
      "outputs": []
    },
    {
      "cell_type": "code",
      "metadata": {
        "id": "v7mhxLaNBRqI",
        "colab_type": "code",
        "colab": {}
      },
      "source": [
        "# Min-max normalization\n",
        "min = X.min(axis = 0) \n",
        "max = X.max(axis = 0) \n",
        "X = (X - min) / (max - min)"
      ],
      "execution_count": 0,
      "outputs": []
    },
    {
      "cell_type": "code",
      "metadata": {
        "id": "tGelIMTTBiHK",
        "colab_type": "code",
        "colab": {}
      },
      "source": [
        "print(min)\n",
        "print(max)\n",
        "print(mean)"
      ],
      "execution_count": 0,
      "outputs": []
    },
    {
      "cell_type": "code",
      "metadata": {
        "id": "bQkecGxOB2z6",
        "colab_type": "code",
        "colab": {}
      },
      "source": [
        "print(X[:10])"
      ],
      "execution_count": 0,
      "outputs": []
    },
    {
      "cell_type": "code",
      "metadata": {
        "id": "3NyUeAhhCC1M",
        "colab_type": "code",
        "colab": {}
      },
      "source": [
        "# Mean normalization\n",
        "min = X.min(axis = 0) \n",
        "max = X.max(axis = 0) \n",
        "mean = X.mean(axis = 0)\n",
        "X = (X - mean) / (max - min)"
      ],
      "execution_count": 0,
      "outputs": []
    },
    {
      "cell_type": "code",
      "metadata": {
        "id": "VFMbMP8xCOiQ",
        "colab_type": "code",
        "colab": {}
      },
      "source": [
        "print(X[:10])"
      ],
      "execution_count": 0,
      "outputs": []
    }
  ]
}