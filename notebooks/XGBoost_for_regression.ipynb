{
  "nbformat": 4,
  "nbformat_minor": 0,
  "metadata": {
    "colab": {
      "name": "XGBoost_for_regression.ipynb",
      "provenance": [],
      "collapsed_sections": [],
      "authorship_tag": "ABX9TyNThP/oSTjDPaX1T73eh7C1"
    },
    "kernelspec": {
      "name": "python3",
      "display_name": "Python 3"
    }
  },
  "cells": [
    {
      "cell_type": "markdown",
      "metadata": {
        "id": "6kd-xZppk8nH",
        "colab_type": "text"
      },
      "source": [
        "## Regression using XGBRegressor()"
      ]
    },
    {
      "cell_type": "code",
      "metadata": {
        "id": "tp8Y4eWVBPGT",
        "colab_type": "code",
        "colab": {}
      },
      "source": [
        "from google.colab import files\n",
        "uploaded = files.upload()"
      ],
      "execution_count": 0,
      "outputs": []
    },
    {
      "cell_type": "code",
      "metadata": {
        "id": "CZfEbpPuk23E",
        "colab_type": "code",
        "colab": {}
      },
      "source": [
        "! head -n 5 pima-diabetes.csv"
      ],
      "execution_count": 0,
      "outputs": []
    },
    {
      "cell_type": "code",
      "metadata": {
        "id": "A08MHOKWBP3w",
        "colab_type": "code",
        "colab": {}
      },
      "source": [
        "import numpy as np\n",
        "dataset = np.genfromtxt('pima-diabetes.csv', delimiter=\",\", skip_header = True) \n",
        "np.random.shuffle(dataset)"
      ],
      "execution_count": 0,
      "outputs": []
    },
    {
      "cell_type": "code",
      "metadata": {
        "id": "_g4ScoWZBWPC",
        "colab_type": "code",
        "colab": {}
      },
      "source": [
        "# Select age as the output (Y)\n",
        "Y = dataset[:, 7] \n",
        "# All others as the input (X)\n",
        "X = dataset[:, [0,1,2,3,4,5,6,8]]"
      ],
      "execution_count": 0,
      "outputs": []
    },
    {
      "cell_type": "code",
      "metadata": {
        "id": "brl9444WgzZ_",
        "colab_type": "code",
        "colab": {}
      },
      "source": [
        "from sklearn.model_selection import train_test_split\n",
        "xtr, xva, ytr, yva = train_test_split(X, Y, test_size = 0.2, random_state = 123)"
      ],
      "execution_count": 0,
      "outputs": []
    },
    {
      "cell_type": "markdown",
      "metadata": {
        "id": "moHHGhZWkbVC",
        "colab_type": "text"
      },
      "source": [
        "### Build and fit a model"
      ]
    },
    {
      "cell_type": "code",
      "metadata": {
        "id": "VeQ6gaQxBZaE",
        "colab_type": "code",
        "colab": {}
      },
      "source": [
        "import xgboost as xgb\n",
        "# Following are some important parameters:\n",
        "#  n_estimators=100\n",
        "#  max_depth=3\n",
        "#  objective='reg:linear'\n",
        "xg_reg = xgb.XGBRegressor(n_estimators=10, max_depth=3, objective='reg:squarederror')\n",
        "# Try adding: , eval_set=[(xva, yva)]\n",
        "xg_reg.fit(xtr, ytr, eval_set=[(xva, yva)])"
      ],
      "execution_count": 0,
      "outputs": []
    },
    {
      "cell_type": "markdown",
      "metadata": {
        "id": "pB-Wjhm_kKdu",
        "colab_type": "text"
      },
      "source": [
        "### Evaluate on the training set itself"
      ]
    },
    {
      "cell_type": "code",
      "metadata": {
        "id": "fgit0faxgrj5",
        "colab_type": "code",
        "colab": {}
      },
      "source": [
        "preds = xg_reg.predict(xtr)"
      ],
      "execution_count": 0,
      "outputs": []
    },
    {
      "cell_type": "code",
      "metadata": {
        "id": "wPWTJn8UhlxJ",
        "colab_type": "code",
        "colab": {}
      },
      "source": [
        "np.set_printoptions(formatter = {'float': '{: 0.1f}'.format})\n",
        "print(ytr[:10])\n",
        "print(preds[:10])"
      ],
      "execution_count": 0,
      "outputs": []
    },
    {
      "cell_type": "markdown",
      "metadata": {
        "id": "6y2xnbgMkGcj",
        "colab_type": "text"
      },
      "source": [
        "### Evaluate on the validation set"
      ]
    },
    {
      "cell_type": "code",
      "metadata": {
        "id": "9cnlSzEBhovU",
        "colab_type": "code",
        "colab": {}
      },
      "source": [
        "preds = xg_reg.predict(xva)"
      ],
      "execution_count": 0,
      "outputs": []
    },
    {
      "cell_type": "code",
      "metadata": {
        "id": "ha2jKmC0izEN",
        "colab_type": "code",
        "colab": {}
      },
      "source": [
        "np.set_printoptions(formatter = {'float': '{: 0.1f}'.format})\n",
        "print(yva[:10])\n",
        "print(preds[:10])"
      ],
      "execution_count": 0,
      "outputs": []
    },
    {
      "cell_type": "markdown",
      "metadata": {
        "id": "UNyUEoi5lZ1P",
        "colab_type": "text"
      },
      "source": [
        "**ToDo: Implement evaluation based on MAE**  "
      ]
    },
    {
      "cell_type": "markdown",
      "metadata": {
        "id": "tU1NvA8lkArR",
        "colab_type": "text"
      },
      "source": [
        "### Visualize one of the trees"
      ]
    },
    {
      "cell_type": "code",
      "metadata": {
        "id": "BWTD8Crpi2ks",
        "colab_type": "code",
        "colab": {}
      },
      "source": [
        "import matplotlib.pyplot as plt\n",
        "plt.rcParams['figure.figsize'] = [50, 10]"
      ],
      "execution_count": 0,
      "outputs": []
    },
    {
      "cell_type": "code",
      "metadata": {
        "id": "lk2CpPlIjd-t",
        "colab_type": "code",
        "colab": {}
      },
      "source": [
        "xgb.plot_tree(xg_reg, num_trees=0, fmap=)"
      ],
      "execution_count": 0,
      "outputs": []
    },
    {
      "cell_type": "markdown",
      "metadata": {
        "id": "gRpFOjqkuFKz",
        "colab_type": "text"
      },
      "source": [
        "### Visualize a tree with appropriate feature names"
      ]
    },
    {
      "cell_type": "code",
      "metadata": {
        "id": "MnNpV114ua_Q",
        "colab_type": "code",
        "colab": {}
      },
      "source": [
        "f = open('pima-diabetes.csv')\n",
        "line = f.readline()\n",
        "f.close()\n",
        "cols = line.strip().split(',')\n",
        "print(cols)\n",
        "# Remove the output column\n",
        "del cols[7]\n",
        "f = open('fmap.txt', 'w')\n",
        "for i, col in enumerate(cols):\n",
        "    f.write(str(i) + '\\t' + str(col) + '\\tq\\n')\n",
        "f.close()\n",
        "\n",
        "! cat fmap.txt"
      ],
      "execution_count": 0,
      "outputs": []
    },
    {
      "cell_type": "code",
      "metadata": {
        "id": "Q6t8m03hubIM",
        "colab_type": "code",
        "colab": {}
      },
      "source": [
        "xgb.plot_tree(xg_reg, num_trees=0, fmap='fmap.txt')"
      ],
      "execution_count": 0,
      "outputs": []
    }
  ]
}