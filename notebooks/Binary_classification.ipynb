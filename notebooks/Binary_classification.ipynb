{
  "nbformat": 4,
  "nbformat_minor": 0,
  "metadata": {
    "colab": {
      "name": "Binary_classification.ipynb",
      "provenance": [],
      "collapsed_sections": []
    },
    "kernelspec": {
      "display_name": "Python 3",
      "language": "python",
      "name": "python3"
    }
  },
  "cells": [
    {
      "cell_type": "markdown",
      "metadata": {
        "id": "qNkOLgfjuiEa",
        "colab_type": "text"
      },
      "source": [
        "#Binary classification using neural networks\n",
        "* Find the `pima-diabetes.csv` file in the `./data/` folder.\n",
        "* Can we correctly classify `Diabetes` knowing all the input variables?"
      ]
    },
    {
      "cell_type": "code",
      "metadata": {
        "id": "X2Z70wjAxwTd",
        "colab_type": "code",
        "colab": {}
      },
      "source": [
        "from google.colab import files\n",
        "uploaded = files.upload()"
      ],
      "execution_count": 0,
      "outputs": []
    },
    {
      "cell_type": "code",
      "metadata": {
        "id": "ihIf3jQm9CYK",
        "colab_type": "code",
        "colab": {}
      },
      "source": [
        "import pandas as pd\n",
        "data = pd.read_csv('pima-diabetes.csv', delimiter=',')\n",
        "data.head()"
      ],
      "execution_count": 0,
      "outputs": []
    },
    {
      "cell_type": "code",
      "metadata": {
        "id": "SMItonDH9G64",
        "colab_type": "code",
        "colab": {}
      },
      "source": [
        "import numpy as np\n",
        "# Use np.loadtxt() instead when there are non-numeric values as well\n",
        "dataset = np.genfromtxt('pima-diabetes.csv', delimiter=\",\", skip_header = True) "
      ],
      "execution_count": 0,
      "outputs": []
    },
    {
      "cell_type": "code",
      "metadata": {
        "id": "8jvnM46l9KFm",
        "colab_type": "code",
        "colab": {}
      },
      "source": [
        "np.set_printoptions(precision = 2) # does not work for too wide array\n",
        "np.set_printoptions(formatter = {'float': '{: 0.1f}'.format})\n",
        "\n",
        "print('')\n",
        "print(dataset.shape)\n",
        "print('')\n",
        "print(dataset[0:5])"
      ],
      "execution_count": 0,
      "outputs": []
    },
    {
      "cell_type": "code",
      "metadata": {
        "id": "oOz37EL69QeH",
        "colab_type": "code",
        "colab": {}
      },
      "source": [
        "X = dataset[:, :-1]\n",
        "Y = dataset[:, -1]"
      ],
      "execution_count": 0,
      "outputs": []
    },
    {
      "cell_type": "code",
      "metadata": {
        "id": "keFr5z6GgONK",
        "colab_type": "code",
        "colab": {}
      },
      "source": [
        "mean = X.mean(axis=0)\n",
        "X -= mean\n",
        "std = X.std(axis=0)\n",
        "X /= std"
      ],
      "execution_count": 0,
      "outputs": []
    },
    {
      "cell_type": "markdown",
      "metadata": {
        "id": "yPCLsBIVR0YL",
        "colab_type": "text"
      },
      "source": [
        "#Design a neural network"
      ]
    },
    {
      "cell_type": "code",
      "metadata": {
        "id": "dOHy7NID9K4v",
        "colab_type": "code",
        "colab": {}
      },
      "source": [
        "from tensorflow.keras.models import Sequential\n",
        "from tensorflow.keras.layers import Dense\n",
        "\n",
        "model = Sequential()\n",
        "model.add(Dense(8, input_dim = len(X[0, :]), activation='relu'))\n",
        "model.add(Dense(4, activation='relu'))\n",
        "model.add(Dense(1, activation='sigmoid'))"
      ],
      "execution_count": 0,
      "outputs": []
    },
    {
      "cell_type": "markdown",
      "metadata": {
        "id": "MViwlHqlSAOZ",
        "colab_type": "text"
      },
      "source": [
        "#Draw the network architecture\n",
        "What is the total parameters? How?"
      ]
    },
    {
      "cell_type": "code",
      "metadata": {
        "id": "FtauTxLxSSHE",
        "colab_type": "code",
        "colab": {}
      },
      "source": [
        "model.summary()"
      ],
      "execution_count": 0,
      "outputs": []
    },
    {
      "cell_type": "code",
      "metadata": {
        "id": "C7ynpE__Sa9P",
        "colab_type": "code",
        "colab": {}
      },
      "source": [
        "from tensorflow.keras.utils import plot_model\n",
        "plot_model(model, show_layer_names=True, show_shapes=True)"
      ],
      "execution_count": 0,
      "outputs": []
    },
    {
      "cell_type": "code",
      "metadata": {
        "id": "7PVtDp5x9bH9",
        "colab_type": "code",
        "colab": {}
      },
      "source": [
        "model.compile(loss='binary_crossentropy', optimizer = 'rmsprop', metrics=['accuracy'])\n",
        "model.fit(X, Y, epochs = 256, verbose = 1)"
      ],
      "execution_count": 0,
      "outputs": []
    },
    {
      "cell_type": "code",
      "metadata": {
        "id": "Jjfd9WVI9pER",
        "colab_type": "code",
        "colab": {}
      },
      "source": [
        "print ('True Validation Data:')\n",
        "print(Y[:10])\n",
        "prediction = model.predict(X)\n",
        "print ('Prediction:')\n",
        "print(prediction[0:10].T)"
      ],
      "execution_count": 0,
      "outputs": []
    },
    {
      "cell_type": "markdown",
      "metadata": {
        "id": "_jeD1R-o-Qiw",
        "colab_type": "text"
      },
      "source": [
        "#Evaluating binary predictions"
      ]
    },
    {
      "cell_type": "code",
      "metadata": {
        "id": "8WPKZdLd13uo",
        "colab_type": "code",
        "colab": {}
      },
      "source": [
        "from sklearn.metrics import accuracy_score, precision_score, recall_score, f1_score\n",
        "accuracy = accuracy_score(Y, prediction.round())\n",
        "precision = precision_score(Y, prediction.round())\n",
        "recall = recall_score(Y, prediction.round())\n",
        "f1score = f1_score(Y, prediction.round())\n",
        "print(\"Accuracy: %.2f%%\" % (accuracy * 100.0))\n",
        "print(\"Precision: %.2f%%\" % (precision * 100.0))\n",
        "print(\"Recall: %.2f%%\" % (recall * 100.0))\n",
        "print(\"F1-score: %.2f\" % (f1score))"
      ],
      "execution_count": 0,
      "outputs": []
    },
    {
      "cell_type": "code",
      "metadata": {
        "id": "vJ98YIJzTUtS",
        "colab_type": "code",
        "colab": {}
      },
      "source": [
        ""
      ],
      "execution_count": 0,
      "outputs": []
    }
  ]
}