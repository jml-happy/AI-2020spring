{
  "nbformat": 4,
  "nbformat_minor": 0,
  "metadata": {
    "colab": {
      "name": "Linear_regression_2_inputs.ipynb",
      "provenance": [],
      "collapsed_sections": []
    },
    "kernelspec": {
      "display_name": "Python 3",
      "language": "python",
      "name": "python3"
    }
  },
  "cells": [
    {
      "cell_type": "markdown",
      "metadata": {
        "id": "qNkOLgfjuiEa",
        "colab_type": "text"
      },
      "source": [
        "#Linear regression with two input variables\n",
        "* Find the `pima-diabetes.csv` file in the `./data/` folder.\n",
        "* Can we predict `Age` knowing `BloodPressure` and `BMI`?"
      ]
    },
    {
      "cell_type": "code",
      "metadata": {
        "id": "3Aacmpfseljv",
        "colab_type": "code",
        "colab": {}
      },
      "source": [
        "from google.colab import files\n",
        "uploaded = files.upload()"
      ],
      "execution_count": 0,
      "outputs": []
    },
    {
      "cell_type": "code",
      "metadata": {
        "id": "TzAK8wbbejQf",
        "colab_type": "code",
        "colab": {}
      },
      "source": [
        "import pandas as pd\n",
        "data = pd.read_csv('pima-diabetes.csv', delimiter=',')\n",
        "data.head()"
      ],
      "execution_count": 0,
      "outputs": []
    },
    {
      "cell_type": "code",
      "metadata": {
        "id": "5WpmBLaOepP6",
        "colab_type": "code",
        "colab": {}
      },
      "source": [
        "import numpy as np\n",
        "# Use np.loadtxt() instead when there are non-numeric values as well\n",
        "dataset = np.genfromtxt('pima-diabetes.csv', delimiter=\",\", skip_header = True, usecols=(2, 5, 7)) "
      ],
      "execution_count": 0,
      "outputs": []
    },
    {
      "cell_type": "code",
      "metadata": {
        "id": "DNJQC5Nker56",
        "colab_type": "code",
        "colab": {}
      },
      "source": [
        "print('')\n",
        "print(dataset.shape)\n",
        "print('')\n",
        "print(dataset[0:5])"
      ],
      "execution_count": 0,
      "outputs": []
    },
    {
      "cell_type": "code",
      "metadata": {
        "id": "uy7phlHffDOB",
        "colab_type": "code",
        "colab": {}
      },
      "source": [
        "import plotly.express as px\n",
        "import pandas as pd\n",
        "\n",
        "d = {'Bloodpressure': dataset[:, 0], 'BMI': dataset[:, 1], 'Age': dataset[:, 2]}\n",
        "df = pd.DataFrame(data=d)\n",
        "\n",
        "fig = px.scatter_3d(df,\n",
        "              x='Bloodpressure', \n",
        "              y='BMI',\n",
        "              z='Age', \n",
        "              opacity = 0.4)\n",
        "fig.show()"
      ],
      "execution_count": 0,
      "outputs": []
    },
    {
      "cell_type": "code",
      "metadata": {
        "id": "8sdKbWfsev2j",
        "colab_type": "code",
        "colab": {}
      },
      "source": [
        "from tensorflow.keras.models import Sequential\n",
        "from tensorflow.keras.layers import Dense\n",
        "\n",
        "model = Sequential()\n",
        "model.add(Dense(1, input_dim = 2, activation='linear'))"
      ],
      "execution_count": 0,
      "outputs": []
    },
    {
      "cell_type": "code",
      "metadata": {
        "id": "uJjcUbeGe0In",
        "colab_type": "code",
        "colab": {}
      },
      "source": [
        "model.compile(loss='mse', optimizer = 'rmsprop', metrics=['mse'])\n",
        "model.fit(dataset[:, 0:2], dataset[:, 2], epochs = 256, verbose = 0)"
      ],
      "execution_count": 0,
      "outputs": []
    },
    {
      "cell_type": "code",
      "metadata": {
        "id": "0aKTjliLe4b_",
        "colab_type": "code",
        "colab": {}
      },
      "source": [
        "print('Model weights (w0, w1, and bias):')\n",
        "w0 = model.layers[0].get_weights()[0][0]\n",
        "w1 = model.layers[0].get_weights()[0][1]\n",
        "b0 = model.layers[0].get_weights()[1]\n",
        "print(w0)\n",
        "print(w1)\n",
        "print(b0)"
      ],
      "execution_count": 0,
      "outputs": []
    },
    {
      "cell_type": "markdown",
      "metadata": {
        "id": "khJaiaURgiRD",
        "colab_type": "text"
      },
      "source": [
        "What is our model's equation?"
      ]
    },
    {
      "cell_type": "code",
      "metadata": {
        "id": "0CKZBkSUfXXh",
        "colab_type": "code",
        "colab": {}
      },
      "source": [
        "np.set_printoptions(precision = 2)\n",
        "print ('True Validation Data:')\n",
        "print(dataset[:10, 2])\n",
        "prediction = model.predict(dataset[:, 0:2])\n",
        "print ('Prediction:')\n",
        "print(prediction[0:5].T)"
      ],
      "execution_count": 0,
      "outputs": []
    },
    {
      "cell_type": "code",
      "metadata": {
        "id": "H11L1D-xhEeB",
        "colab_type": "code",
        "colab": {}
      },
      "source": [
        "import matplotlib.pyplot as plt\n",
        "\n",
        "plt.scatter(dataset[:, 2], prediction)\n",
        "plt.ylabel('Predicted Age')\n",
        "plt.xlabel('True Age')\n",
        "plt.show()"
      ],
      "execution_count": 0,
      "outputs": []
    },
    {
      "cell_type": "markdown",
      "metadata": {
        "id": "Z5A9Ke0Fgxbd",
        "colab_type": "text"
      },
      "source": [
        "Are these predictions reasonable? How did you verify?"
      ]
    },
    {
      "cell_type": "code",
      "metadata": {
        "id": "KR75A3-08bE2",
        "colab_type": "code",
        "colab": {}
      },
      "source": [
        ""
      ],
      "execution_count": 0,
      "outputs": []
    }
  ]
}