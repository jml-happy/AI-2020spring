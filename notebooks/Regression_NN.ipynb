{
  "nbformat": 4,
  "nbformat_minor": 0,
  "metadata": {
    "colab": {
      "name": "Regression_NN.ipynb",
      "provenance": [],
      "collapsed_sections": []
    },
    "kernelspec": {
      "display_name": "Python 3",
      "language": "python",
      "name": "python3"
    }
  },
  "cells": [
    {
      "cell_type": "markdown",
      "metadata": {
        "id": "qNkOLgfjuiEa",
        "colab_type": "text"
      },
      "source": [
        "#Regression using neural networks\n",
        "* Find the `pima-diabetes.csv` file in the `./data/` folder.\n",
        "* Can we predict `Age` knowing all other variables?"
      ]
    },
    {
      "cell_type": "code",
      "metadata": {
        "id": "3Aacmpfseljv",
        "colab_type": "code",
        "colab": {}
      },
      "source": [
        "from google.colab import files\n",
        "uploaded = files.upload()"
      ],
      "execution_count": 0,
      "outputs": []
    },
    {
      "cell_type": "code",
      "metadata": {
        "id": "TzAK8wbbejQf",
        "colab_type": "code",
        "colab": {}
      },
      "source": [
        "import pandas as pd\n",
        "data = pd.read_csv('pima-diabetes.csv', delimiter=',')\n",
        "data.head()"
      ],
      "execution_count": 0,
      "outputs": []
    },
    {
      "cell_type": "code",
      "metadata": {
        "id": "5WpmBLaOepP6",
        "colab_type": "code",
        "colab": {}
      },
      "source": [
        "import numpy as np\n",
        "dataset = np.genfromtxt('pima-diabetes.csv', delimiter=\",\", skip_header = True) "
      ],
      "execution_count": 0,
      "outputs": []
    },
    {
      "cell_type": "code",
      "metadata": {
        "id": "vp7cunblxQLD",
        "colab_type": "code",
        "colab": {}
      },
      "source": [
        "np.set_printoptions(formatter = {'float': '{: 0.1f}'.format})"
      ],
      "execution_count": 0,
      "outputs": []
    },
    {
      "cell_type": "code",
      "metadata": {
        "id": "DNJQC5Nker56",
        "colab_type": "code",
        "colab": {}
      },
      "source": [
        "print('')\n",
        "print(dataset.shape)\n",
        "print('')\n",
        "print(dataset[0:5])"
      ],
      "execution_count": 0,
      "outputs": []
    },
    {
      "cell_type": "code",
      "metadata": {
        "id": "7dYB66dvsPVd",
        "colab_type": "code",
        "colab": {}
      },
      "source": [
        "# Select age as the output (Y)\n",
        "Y = dataset[:, 7] \n",
        "# All others as the input (X)\n",
        "X = dataset[:, [0,1,2,3,4,5,6,8]]"
      ],
      "execution_count": 0,
      "outputs": []
    },
    {
      "cell_type": "code",
      "metadata": {
        "id": "xpEhv9IJs-72",
        "colab_type": "code",
        "colab": {}
      },
      "source": [
        "# Standardization\n",
        "mean = X.mean(axis = 0)\n",
        "X -= mean\n",
        "std = X.std(axis = 0)\n",
        "X /= std\n",
        "\n",
        "# Rescaling\n",
        "Ymax = Y.max()\n",
        "Y = Y / Ymax"
      ],
      "execution_count": 0,
      "outputs": []
    },
    {
      "cell_type": "code",
      "metadata": {
        "id": "rUocY18jshO3",
        "colab_type": "code",
        "colab": {}
      },
      "source": [
        "print(X.shape)\n",
        "print(X[:5, :])"
      ],
      "execution_count": 0,
      "outputs": []
    },
    {
      "cell_type": "code",
      "metadata": {
        "id": "X0pwY4pksnoi",
        "colab_type": "code",
        "colab": {}
      },
      "source": [
        "print(Y[:5])"
      ],
      "execution_count": 0,
      "outputs": []
    },
    {
      "cell_type": "markdown",
      "metadata": {
        "id": "NXajbHerwOoL",
        "colab_type": "text"
      },
      "source": [
        "## Build a neural network"
      ]
    },
    {
      "cell_type": "code",
      "metadata": {
        "id": "8sdKbWfsev2j",
        "colab_type": "code",
        "colab": {}
      },
      "source": [
        "from tensorflow.keras.models import Sequential\n",
        "from tensorflow.keras.layers import Dense\n",
        "\n",
        "model = Sequential()\n",
        "model.add(Dense(12, input_dim = 8, activation='relu'))\n",
        "model.add(Dense(8, activation='relu'))\n",
        "model.add(Dense(1, activation='linear'))"
      ],
      "execution_count": 0,
      "outputs": []
    },
    {
      "cell_type": "code",
      "metadata": {
        "id": "uJjcUbeGe0In",
        "colab_type": "code",
        "colab": {}
      },
      "source": [
        "model.compile(loss='mse', optimizer = 'rmsprop', metrics=['mse'])\n",
        "model.fit(X, Y, epochs = 1024, verbose = 1)"
      ],
      "execution_count": 0,
      "outputs": []
    },
    {
      "cell_type": "markdown",
      "metadata": {
        "id": "MXzw0zC-wWw9",
        "colab_type": "text"
      },
      "source": [
        "## Assess the predictions"
      ]
    },
    {
      "cell_type": "code",
      "metadata": {
        "id": "0CKZBkSUfXXh",
        "colab_type": "code",
        "colab": {}
      },
      "source": [
        "np.set_printoptions(precision = 2)\n",
        "print ('True Data:')\n",
        "print(Y[:10])\n",
        "prediction = model.predict(X)\n",
        "print ('Prediction:')\n",
        "print(prediction[0:5].T)"
      ],
      "execution_count": 0,
      "outputs": []
    },
    {
      "cell_type": "code",
      "metadata": {
        "id": "H11L1D-xhEeB",
        "colab_type": "code",
        "colab": {}
      },
      "source": [
        "import matplotlib.pyplot as plt\n",
        "\n",
        "plt.scatter(Y, prediction)\n",
        "plt.ylabel('Predicted Age')\n",
        "plt.xlim(0, 1)\n",
        "plt.ylim(0, 1)\n",
        "plt.xlabel('True Age')\n",
        "plt.show()"
      ],
      "execution_count": 0,
      "outputs": []
    },
    {
      "cell_type": "markdown",
      "metadata": {
        "id": "H1wm5JuMwdnN",
        "colab_type": "text"
      },
      "source": [
        "## Restore predictions (un-normalize)"
      ]
    },
    {
      "cell_type": "code",
      "metadata": {
        "id": "KR75A3-08bE2",
        "colab_type": "code",
        "colab": {}
      },
      "source": [
        "# Obtain the actual ages\n",
        "Pactual = prediction.flatten() * Ymax\n",
        "Yactual = Y.flatten() * Ymax\n",
        "\n",
        "plt.scatter(Yactual, Pactual)\n",
        "plt.ylabel('Predicted Age')\n",
        "plt.xlim(0, Ymax)\n",
        "plt.ylim(0, Ymax)\n",
        "plt.xlabel('True Age')\n",
        "plt.show()"
      ],
      "execution_count": 0,
      "outputs": []
    },
    {
      "cell_type": "markdown",
      "metadata": {
        "id": "nl0vJ-5UwKHS",
        "colab_type": "text"
      },
      "source": [
        "# Quantitative evaluation of mode the model using MAE"
      ]
    },
    {
      "cell_type": "code",
      "metadata": {
        "id": "0Xg6GWgsvEYl",
        "colab_type": "code",
        "colab": {}
      },
      "source": [
        "diff = abs(Pactual - Yactual)"
      ],
      "execution_count": 0,
      "outputs": []
    },
    {
      "cell_type": "code",
      "metadata": {
        "id": "FWJVMwFavoD4",
        "colab_type": "code",
        "colab": {}
      },
      "source": [
        "print(Yactual[:10])\n",
        "print(Pactual[:10])\n",
        "print(diff[:10])"
      ],
      "execution_count": 0,
      "outputs": []
    },
    {
      "cell_type": "code",
      "metadata": {
        "id": "LL6jPHhrvXl4",
        "colab_type": "code",
        "colab": {}
      },
      "source": [
        "diff.mean()"
      ],
      "execution_count": 0,
      "outputs": []
    },
    {
      "cell_type": "code",
      "metadata": {
        "id": "MdOsHx7nvzLf",
        "colab_type": "code",
        "colab": {}
      },
      "source": [
        "diff.std()"
      ],
      "execution_count": 0,
      "outputs": []
    },
    {
      "cell_type": "code",
      "metadata": {
        "id": "r1uyv9oSwDu9",
        "colab_type": "code",
        "colab": {}
      },
      "source": [
        "diff.max()"
      ],
      "execution_count": 0,
      "outputs": []
    },
    {
      "cell_type": "code",
      "metadata": {
        "id": "Z5NG7m6wwFf3",
        "colab_type": "code",
        "colab": {}
      },
      "source": [
        "diff.min()"
      ],
      "execution_count": 0,
      "outputs": []
    }
  ]
}